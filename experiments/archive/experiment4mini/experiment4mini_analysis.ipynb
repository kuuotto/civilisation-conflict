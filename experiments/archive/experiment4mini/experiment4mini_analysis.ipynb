{
 "cells": [
  {
   "cell_type": "code",
   "execution_count": 1,
   "metadata": {},
   "outputs": [],
   "source": [
    "import pickle\n",
    "import os\n",
    "from glob import glob\n",
    "import datetime\n",
    "import matplotlib.pyplot as plt\n",
    "import pandas as pd\n",
    "from model import analyse, visualise\n",
    "import numpy as np\n",
    "\n",
    "plt.style.use(style=\"ggplot\")\n",
    "\n",
    "# font size in the paper is 9\n",
    "plt.rcParams.update({\"font.size\": 9})\n",
    "\n",
    "# widths of figures in inches\n",
    "TWO_COLUMN_FIG_WIDTH = 6.25963\n",
    "# TWO_COLUMN_FIG_WIDTH = 7.00697\n",
    "# SINGLE_COLUMN_FIG_WIDTH = 3.3374"
   ]
  },
  {
   "cell_type": "markdown",
   "metadata": {},
   "source": [
    "# Experiment 4mini"
   ]
  },
  {
   "cell_type": "markdown",
   "metadata": {},
   "source": [
    "Let's read in the files:"
   ]
  },
  {
   "cell_type": "code",
   "execution_count": 2,
   "metadata": {},
   "outputs": [],
   "source": [
    "output_dir = \"./experiments/experiment4mini/experiment4mini_output\"\n",
    "file_pattern = \"experiment4_results_*.pickle\"\n",
    "\n",
    "results = []\n",
    "\n",
    "for file_path in glob(os.path.join(output_dir, file_pattern)):\n",
    "\n",
    "    with open(file_path, \"rb\") as f:\n",
    "        run_results = pickle.load(f)\n",
    "        results.append(run_results)"
   ]
  },
  {
   "cell_type": "code",
   "execution_count": 4,
   "metadata": {},
   "outputs": [
    {
     "data": {
      "text/plain": [
       "93"
      ]
     },
     "execution_count": 4,
     "metadata": {},
     "output_type": "execute_result"
    }
   ],
   "source": [
    "len(results)"
   ]
  },
  {
   "cell_type": "code",
   "execution_count": 5,
   "metadata": {},
   "outputs": [
    {
     "name": "stdout",
     "output_type": "stream",
     "text": [
      "3\n",
      "90\n",
      "91\n"
     ]
    }
   ],
   "source": [
    "ids = tuple(r['run_id'] for r in results)\n",
    "for i in range(96):\n",
    "    if i not in ids:\n",
    "        print(i)"
   ]
  },
  {
   "cell_type": "code",
   "execution_count": 6,
   "metadata": {},
   "outputs": [
    {
     "data": {
      "text/plain": [
       "['run_id',\n",
       " 'duration',\n",
       " 'attack_reward',\n",
       " 'prob_indifferent',\n",
       " 'params',\n",
       " 'run_length',\n",
       " 'agent_df',\n",
       " 'lower_tree_query_data',\n",
       " 'actions',\n",
       " 'rewards',\n",
       " 'action_qualities']"
      ]
     },
     "execution_count": 6,
     "metadata": {},
     "output_type": "execute_result"
    }
   ],
   "source": [
    "list(results[0].keys())"
   ]
  },
  {
   "cell_type": "code",
   "execution_count": 7,
   "metadata": {},
   "outputs": [
    {
     "name": "stdout",
     "output_type": "stream",
     "text": [
      "Average: 7:42:50.655483\n",
      "Maximum: 10:55:39.439778\n"
     ]
    }
   ],
   "source": [
    "subset = [res[\"duration\"] for res in results]\n",
    "avg_duration = sum((d for d in subset), start=datetime.timedelta(0)) / len(subset)\n",
    "print(f'Average: {avg_duration}')\n",
    "print(f'Maximum: {max(subset)}')"
   ]
  },
  {
   "cell_type": "code",
   "execution_count": 8,
   "metadata": {},
   "outputs": [
    {
     "name": "stdout",
     "output_type": "stream",
     "text": [
      "0\n"
     ]
    }
   ],
   "source": [
    "# check which runs didn't finish\n",
    "n = 0\n",
    "for r in results:\n",
    "    if r[\"run_length\"] < 100:\n",
    "        print(f\"{r['run_id']}: {r['run_length']}, {r['softargmax_coefficient']:.2f}, {r['exploration_coef']:.2f}, {r['reasoning_level']}\")\n",
    "        n += 1\n",
    "\n",
    "print(n)"
   ]
  },
  {
   "cell_type": "markdown",
   "metadata": {},
   "source": [
    "All of the runs finished. Previously I found out many level 0 runs do not finish. Here we only use level 1."
   ]
  },
  {
   "cell_type": "markdown",
   "metadata": {},
   "source": [
    "Let's visualise the query success rates as averages over all runs over time."
   ]
  },
  {
   "cell_type": "code",
   "execution_count": 9,
   "metadata": {},
   "outputs": [
    {
     "data": {
      "text/html": [
       "<div>\n",
       "<style scoped>\n",
       "    .dataframe tbody tr th:only-of-type {\n",
       "        vertical-align: middle;\n",
       "    }\n",
       "\n",
       "    .dataframe tbody tr th {\n",
       "        vertical-align: top;\n",
       "    }\n",
       "\n",
       "    .dataframe thead th {\n",
       "        text-align: right;\n",
       "    }\n",
       "</style>\n",
       "<table border=\"1\" class=\"dataframe\">\n",
       "  <thead>\n",
       "    <tr style=\"text-align: right;\">\n",
       "      <th></th>\n",
       "      <th>time</th>\n",
       "      <th>tree</th>\n",
       "      <th>n_queries</th>\n",
       "      <th>prop_successful</th>\n",
       "      <th>prop_missing_node</th>\n",
       "      <th>prop_diverged_belief</th>\n",
       "      <th>prop_some_actions_unexpanded</th>\n",
       "    </tr>\n",
       "  </thead>\n",
       "  <tbody>\n",
       "    <tr>\n",
       "      <th>0</th>\n",
       "      <td>0</td>\n",
       "      <td>Civ 0,</td>\n",
       "      <td>22142</td>\n",
       "      <td>0.748713</td>\n",
       "      <td>0.000000</td>\n",
       "      <td>0.063996</td>\n",
       "      <td>0.187291</td>\n",
       "    </tr>\n",
       "    <tr>\n",
       "      <th>1</th>\n",
       "      <td>0</td>\n",
       "      <td>Civ 1,</td>\n",
       "      <td>22088</td>\n",
       "      <td>0.947166</td>\n",
       "      <td>0.000091</td>\n",
       "      <td>0.005297</td>\n",
       "      <td>0.047447</td>\n",
       "    </tr>\n",
       "    <tr>\n",
       "      <th>2</th>\n",
       "      <td>1</td>\n",
       "      <td>Civ 0,</td>\n",
       "      <td>22326</td>\n",
       "      <td>0.691839</td>\n",
       "      <td>0.000314</td>\n",
       "      <td>0.091149</td>\n",
       "      <td>0.216698</td>\n",
       "    </tr>\n",
       "    <tr>\n",
       "      <th>3</th>\n",
       "      <td>1</td>\n",
       "      <td>Civ 1,</td>\n",
       "      <td>22322</td>\n",
       "      <td>0.943464</td>\n",
       "      <td>0.000045</td>\n",
       "      <td>0.006854</td>\n",
       "      <td>0.049637</td>\n",
       "    </tr>\n",
       "    <tr>\n",
       "      <th>4</th>\n",
       "      <td>2</td>\n",
       "      <td>Civ 0,</td>\n",
       "      <td>22344</td>\n",
       "      <td>0.816998</td>\n",
       "      <td>0.001522</td>\n",
       "      <td>0.017320</td>\n",
       "      <td>0.164160</td>\n",
       "    </tr>\n",
       "    <tr>\n",
       "      <th>...</th>\n",
       "      <td>...</td>\n",
       "      <td>...</td>\n",
       "      <td>...</td>\n",
       "      <td>...</td>\n",
       "      <td>...</td>\n",
       "      <td>...</td>\n",
       "      <td>...</td>\n",
       "    </tr>\n",
       "    <tr>\n",
       "      <th>18781</th>\n",
       "      <td>98</td>\n",
       "      <td>Civ 1,</td>\n",
       "      <td>22573</td>\n",
       "      <td>0.000000</td>\n",
       "      <td>0.800292</td>\n",
       "      <td>0.199708</td>\n",
       "      <td>0.000000</td>\n",
       "    </tr>\n",
       "    <tr>\n",
       "      <th>18782</th>\n",
       "      <td>99</td>\n",
       "      <td>Civ 0,</td>\n",
       "      <td>22459</td>\n",
       "      <td>0.959660</td>\n",
       "      <td>0.003250</td>\n",
       "      <td>0.007970</td>\n",
       "      <td>0.029120</td>\n",
       "    </tr>\n",
       "    <tr>\n",
       "      <th>18783</th>\n",
       "      <td>99</td>\n",
       "      <td>Civ 1,</td>\n",
       "      <td>22211</td>\n",
       "      <td>0.000000</td>\n",
       "      <td>0.795642</td>\n",
       "      <td>0.204358</td>\n",
       "      <td>0.000000</td>\n",
       "    </tr>\n",
       "    <tr>\n",
       "      <th>18784</th>\n",
       "      <td>100</td>\n",
       "      <td>Civ 0,</td>\n",
       "      <td>22483</td>\n",
       "      <td>0.970467</td>\n",
       "      <td>0.003336</td>\n",
       "      <td>0.004893</td>\n",
       "      <td>0.021305</td>\n",
       "    </tr>\n",
       "    <tr>\n",
       "      <th>18785</th>\n",
       "      <td>100</td>\n",
       "      <td>Civ 1,</td>\n",
       "      <td>22270</td>\n",
       "      <td>0.000000</td>\n",
       "      <td>0.796767</td>\n",
       "      <td>0.203233</td>\n",
       "      <td>0.000000</td>\n",
       "    </tr>\n",
       "  </tbody>\n",
       "</table>\n",
       "<p>18786 rows × 7 columns</p>\n",
       "</div>"
      ],
      "text/plain": [
       "       time    tree  n_queries  prop_successful  prop_missing_node  \\\n",
       "0         0  Civ 0,      22142         0.748713           0.000000   \n",
       "1         0  Civ 1,      22088         0.947166           0.000091   \n",
       "2         1  Civ 0,      22326         0.691839           0.000314   \n",
       "3         1  Civ 1,      22322         0.943464           0.000045   \n",
       "4         2  Civ 0,      22344         0.816998           0.001522   \n",
       "...     ...     ...        ...              ...                ...   \n",
       "18781    98  Civ 1,      22573         0.000000           0.800292   \n",
       "18782    99  Civ 0,      22459         0.959660           0.003250   \n",
       "18783    99  Civ 1,      22211         0.000000           0.795642   \n",
       "18784   100  Civ 0,      22483         0.970467           0.003336   \n",
       "18785   100  Civ 1,      22270         0.000000           0.796767   \n",
       "\n",
       "       prop_diverged_belief  prop_some_actions_unexpanded  \n",
       "0                  0.063996                      0.187291  \n",
       "1                  0.005297                      0.047447  \n",
       "2                  0.091149                      0.216698  \n",
       "3                  0.006854                      0.049637  \n",
       "4                  0.017320                      0.164160  \n",
       "...                     ...                           ...  \n",
       "18781              0.199708                      0.000000  \n",
       "18782              0.007970                      0.029120  \n",
       "18783              0.204358                      0.000000  \n",
       "18784              0.004893                      0.021305  \n",
       "18785              0.203233                      0.000000  \n",
       "\n",
       "[18786 rows x 7 columns]"
      ]
     },
     "execution_count": 9,
     "metadata": {},
     "output_type": "execute_result"
    }
   ],
   "source": [
    "# let's turn the results into a DataFrame\n",
    "rows = []\n",
    "\n",
    "# the simulations are level 1\n",
    "tree_levels = {\"Civ 0,\": 1, \"Civ 1,\": 1}\n",
    "\n",
    "for run_result in results:\n",
    "\n",
    "    for t, time_step_data in enumerate(run_result[\"lower_tree_query_data\"]):\n",
    "        for tree, values in time_step_data.items():\n",
    "            # if there are no queries, skip\n",
    "            if values[0] == 0:\n",
    "                continue\n",
    "\n",
    "            level = tree_levels[tree]\n",
    "\n",
    "            rows.append((t, tree, *values))\n",
    "\n",
    "query_data = pd.DataFrame(\n",
    "    rows,                       \n",
    "    columns=(\n",
    "        'time', \n",
    "        'tree',\n",
    "        'n_queries', \n",
    "        'prop_successful', \n",
    "        'prop_missing_node', \n",
    "        'prop_diverged_belief', \n",
    "        'prop_some_actions_unexpanded'\n",
    "    )\n",
    ")\n",
    "\n",
    "query_data"
   ]
  },
  {
   "cell_type": "code",
   "execution_count": 10,
   "metadata": {},
   "outputs": [
    {
     "name": "stderr",
     "output_type": "stream",
     "text": [
      "No artists with labels found to put in legend.  Note that artists whose label start with an underscore are ignored when legend() is called with no argument.\n"
     ]
    },
    {
     "data": {
      "image/png": "[encoded data removed]",
      "text/plain": [
       "<Figure size 1500x300 with 5 Axes>"
      ]
     },
     "metadata": {},
     "output_type": "display_data"
    }
   ],
   "source": [
    "# plot\n",
    "fig, axs = plt.subplots(nrows=1, ncols=5, constrained_layout=True, figsize=(15,3))\n",
    "\n",
    "metrics = [\"n_queries\", \"prop_successful\", \"prop_missing_node\", \"prop_diverged_belief\", \"prop_some_actions_unexpanded\"]\n",
    "\n",
    "for i, metric in enumerate(metrics):\n",
    "\n",
    "    avg_metric = query_data.groupby(\"time\")[metric].mean()\n",
    "\n",
    "    axs[i].plot(avg_metric.index, avg_metric)\n",
    "\n",
    "    axs[i].set_title(metric)\n",
    "    axs[i].set_xlabel('time')\n",
    "\n",
    "    if metric != \"n_queries\":\n",
    "        axs[i].set_ylim((0,1))\n",
    "    else:\n",
    "        # add point 0 to data limits so scaling is correct\n",
    "        axs[i].update_datalim([(0, 0)])\n",
    "    \n",
    "fig.legend()\n",
    "plt.show()"
   ]
  },
  {
   "cell_type": "markdown",
   "metadata": {},
   "source": [
    "Let's calculate the average proportion of all actions that are attacks at each reward level:"
   ]
  },
  {
   "cell_type": "code",
   "execution_count": 12,
   "metadata": {},
   "outputs": [],
   "source": [
    "rows = []\n",
    "\n",
    "for run_result in results:\n",
    "\n",
    "    run_id = run_result[\"run_id\"]\n",
    "    run_length = run_result[\"run_length\"]\n",
    "    attack_reward = run_result[\"attack_reward\"]\n",
    "    prob_indifferent = run_result[\"params\"][\"prob_indifferent\"]\n",
    "    reasoning_level = run_result[\"params\"][\"reasoning_level\"]\n",
    "    exploration_coef = run_result[\"params\"][\"exploration_coef\"]\n",
    "    softargmax_coef = run_result[\"params\"][\"softargmax_coef\"]\n",
    "\n",
    "    run_actions = run_result[\"actions\"]\n",
    "    prop_no_action = ((run_actions[\"action\"] == 0) | ((run_actions[\"action\"] == \"a\") & (run_actions[\"attack_successful\"].isnull()))).mean()\n",
    "    prop_attack = ((run_actions[\"action\"] == \"a\") & (~run_actions[\"attack_successful\"].isnull())).mean()\n",
    "    #prop_no_action = (run_actions[\"action\"] == 0).mean()\n",
    "    #prop_attack = (run_actions[\"action\"] == \"a\").mean()\n",
    "    prop_hide = ((run_actions[\"action\"] == 1)).mean()\n",
    "    rows.append((run_id, run_length, attack_reward, prob_indifferent, reasoning_level, exploration_coef, softargmax_coef, prop_no_action, prop_attack, prop_hide))\n",
    "\n",
    "prop_action_data = pd.DataFrame(rows, columns=('run_id', 'run_length', 'attack_reward', 'prob_indifferent', 'reasoning_level', 'exploration_coef', 'softargmax_coef', \n",
    "                                               'prop_no_action', 'prop_attack', 'prop_hide'))\n",
    "\n",
    "# add bins for attack reward\n",
    "# bins = np.linspace(-0.2, 0.1, 31)\n",
    "# prop_action_data[\"attack_reward_bin\"] = pd.cut(x=prop_action_data[\"attack_reward\"], bins=bins, include_lowest=True)"
   ]
  },
  {
   "cell_type": "code",
   "execution_count": 14,
   "metadata": {},
   "outputs": [
    {
     "data": {
      "text/html": [
       "<div>\n",
       "<style scoped>\n",
       "    .dataframe tbody tr th:only-of-type {\n",
       "        vertical-align: middle;\n",
       "    }\n",
       "\n",
       "    .dataframe tbody tr th {\n",
       "        vertical-align: top;\n",
       "    }\n",
       "\n",
       "    .dataframe thead th {\n",
       "        text-align: right;\n",
       "    }\n",
       "</style>\n",
       "<table border=\"1\" class=\"dataframe\">\n",
       "  <thead>\n",
       "    <tr style=\"text-align: right;\">\n",
       "      <th></th>\n",
       "      <th>run_id</th>\n",
       "      <th>run_length</th>\n",
       "      <th>attack_reward</th>\n",
       "      <th>prob_indifferent</th>\n",
       "      <th>reasoning_level</th>\n",
       "      <th>exploration_coef</th>\n",
       "      <th>softargmax_coef</th>\n",
       "      <th>prop_no_action</th>\n",
       "      <th>prop_attack</th>\n",
       "      <th>prop_hide</th>\n",
       "    </tr>\n",
       "  </thead>\n",
       "  <tbody>\n",
       "    <tr>\n",
       "      <th>0</th>\n",
       "      <td>20</td>\n",
       "      <td>101</td>\n",
       "      <td>0.075038</td>\n",
       "      <td>0.5</td>\n",
       "      <td>1</td>\n",
       "      <td>0.5</td>\n",
       "      <td>0.1</td>\n",
       "      <td>0.445545</td>\n",
       "      <td>0.465347</td>\n",
       "      <td>0.089109</td>\n",
       "    </tr>\n",
       "    <tr>\n",
       "      <th>1</th>\n",
       "      <td>43</td>\n",
       "      <td>101</td>\n",
       "      <td>0.016999</td>\n",
       "      <td>0.5</td>\n",
       "      <td>1</td>\n",
       "      <td>0.5</td>\n",
       "      <td>0.1</td>\n",
       "      <td>0.485149</td>\n",
       "      <td>0.465347</td>\n",
       "      <td>0.049505</td>\n",
       "    </tr>\n",
       "    <tr>\n",
       "      <th>2</th>\n",
       "      <td>32</td>\n",
       "      <td>101</td>\n",
       "      <td>0.037403</td>\n",
       "      <td>0.5</td>\n",
       "      <td>1</td>\n",
       "      <td>0.5</td>\n",
       "      <td>0.1</td>\n",
       "      <td>0.465347</td>\n",
       "      <td>0.485149</td>\n",
       "      <td>0.049505</td>\n",
       "    </tr>\n",
       "    <tr>\n",
       "      <th>3</th>\n",
       "      <td>51</td>\n",
       "      <td>101</td>\n",
       "      <td>0.066330</td>\n",
       "      <td>0.5</td>\n",
       "      <td>1</td>\n",
       "      <td>0.5</td>\n",
       "      <td>0.1</td>\n",
       "      <td>0.455446</td>\n",
       "      <td>0.475248</td>\n",
       "      <td>0.069307</td>\n",
       "    </tr>\n",
       "    <tr>\n",
       "      <th>4</th>\n",
       "      <td>0</td>\n",
       "      <td>101</td>\n",
       "      <td>-0.070691</td>\n",
       "      <td>0.5</td>\n",
       "      <td>1</td>\n",
       "      <td>0.5</td>\n",
       "      <td>0.1</td>\n",
       "      <td>0.891089</td>\n",
       "      <td>0.000000</td>\n",
       "      <td>0.108911</td>\n",
       "    </tr>\n",
       "    <tr>\n",
       "      <th>...</th>\n",
       "      <td>...</td>\n",
       "      <td>...</td>\n",
       "      <td>...</td>\n",
       "      <td>...</td>\n",
       "      <td>...</td>\n",
       "      <td>...</td>\n",
       "      <td>...</td>\n",
       "      <td>...</td>\n",
       "      <td>...</td>\n",
       "      <td>...</td>\n",
       "    </tr>\n",
       "    <tr>\n",
       "      <th>88</th>\n",
       "      <td>9</td>\n",
       "      <td>101</td>\n",
       "      <td>-0.189486</td>\n",
       "      <td>0.5</td>\n",
       "      <td>1</td>\n",
       "      <td>0.5</td>\n",
       "      <td>0.1</td>\n",
       "      <td>0.871287</td>\n",
       "      <td>0.000000</td>\n",
       "      <td>0.128713</td>\n",
       "    </tr>\n",
       "    <tr>\n",
       "      <th>89</th>\n",
       "      <td>70</td>\n",
       "      <td>101</td>\n",
       "      <td>-0.175394</td>\n",
       "      <td>0.5</td>\n",
       "      <td>1</td>\n",
       "      <td>0.5</td>\n",
       "      <td>0.1</td>\n",
       "      <td>0.900990</td>\n",
       "      <td>0.000000</td>\n",
       "      <td>0.099010</td>\n",
       "    </tr>\n",
       "    <tr>\n",
       "      <th>90</th>\n",
       "      <td>13</td>\n",
       "      <td>101</td>\n",
       "      <td>-0.008091</td>\n",
       "      <td>0.5</td>\n",
       "      <td>1</td>\n",
       "      <td>0.5</td>\n",
       "      <td>0.1</td>\n",
       "      <td>0.881188</td>\n",
       "      <td>0.029703</td>\n",
       "      <td>0.089109</td>\n",
       "    </tr>\n",
       "    <tr>\n",
       "      <th>91</th>\n",
       "      <td>62</td>\n",
       "      <td>101</td>\n",
       "      <td>0.027692</td>\n",
       "      <td>0.5</td>\n",
       "      <td>1</td>\n",
       "      <td>0.5</td>\n",
       "      <td>0.1</td>\n",
       "      <td>0.475248</td>\n",
       "      <td>0.455446</td>\n",
       "      <td>0.069307</td>\n",
       "    </tr>\n",
       "    <tr>\n",
       "      <th>92</th>\n",
       "      <td>5</td>\n",
       "      <td>101</td>\n",
       "      <td>-0.106577</td>\n",
       "      <td>0.5</td>\n",
       "      <td>1</td>\n",
       "      <td>0.5</td>\n",
       "      <td>0.1</td>\n",
       "      <td>0.960396</td>\n",
       "      <td>0.009901</td>\n",
       "      <td>0.029703</td>\n",
       "    </tr>\n",
       "  </tbody>\n",
       "</table>\n",
       "<p>93 rows × 10 columns</p>\n",
       "</div>"
      ],
      "text/plain": [
       "    run_id  run_length  attack_reward  prob_indifferent  reasoning_level  \\\n",
       "0       20         101       0.075038               0.5                1   \n",
       "1       43         101       0.016999               0.5                1   \n",
       "2       32         101       0.037403               0.5                1   \n",
       "3       51         101       0.066330               0.5                1   \n",
       "4        0         101      -0.070691               0.5                1   \n",
       "..     ...         ...            ...               ...              ...   \n",
       "88       9         101      -0.189486               0.5                1   \n",
       "89      70         101      -0.175394               0.5                1   \n",
       "90      13         101      -0.008091               0.5                1   \n",
       "91      62         101       0.027692               0.5                1   \n",
       "92       5         101      -0.106577               0.5                1   \n",
       "\n",
       "    exploration_coef  softargmax_coef  prop_no_action  prop_attack  prop_hide  \n",
       "0                0.5              0.1        0.445545     0.465347   0.089109  \n",
       "1                0.5              0.1        0.485149     0.465347   0.049505  \n",
       "2                0.5              0.1        0.465347     0.485149   0.049505  \n",
       "3                0.5              0.1        0.455446     0.475248   0.069307  \n",
       "4                0.5              0.1        0.891089     0.000000   0.108911  \n",
       "..               ...              ...             ...          ...        ...  \n",
       "88               0.5              0.1        0.871287     0.000000   0.128713  \n",
       "89               0.5              0.1        0.900990     0.000000   0.099010  \n",
       "90               0.5              0.1        0.881188     0.029703   0.089109  \n",
       "91               0.5              0.1        0.475248     0.455446   0.069307  \n",
       "92               0.5              0.1        0.960396     0.009901   0.029703  \n",
       "\n",
       "[93 rows x 10 columns]"
      ]
     },
     "execution_count": 14,
     "metadata": {},
     "output_type": "execute_result"
    }
   ],
   "source": [
    "prop_action_data"
   ]
  },
  {
   "cell_type": "code",
   "execution_count": 16,
   "metadata": {},
   "outputs": [
    {
     "data": {
      "text/plain": [
       "attack_reward_bin\n",
       "(-0.201, -0.19]      24\n",
       "(-0.19, -0.18]       24\n",
       "(-0.18, -0.17]       24\n",
       "(-0.17, -0.16]       32\n",
       "(-0.16, -0.15]       16\n",
       "(-0.15, -0.14]       32\n",
       "(-0.14, -0.13]       32\n",
       "(-0.13, -0.12]       32\n",
       "(-0.12, -0.11]       23\n",
       "(-0.11, -0.1]        24\n",
       "(-0.1, -0.09]         8\n",
       "(-0.09, -0.08]       40\n",
       "(-0.08, -0.07]       24\n",
       "(-0.07, -0.06]       16\n",
       "(-0.06, -0.05]       32\n",
       "(-0.05, -0.04]       24\n",
       "(-0.04, -0.03]       32\n",
       "(-0.03, -0.02]       16\n",
       "(-0.02, -0.01]       24\n",
       "(-0.01, 2.78e-17]    23\n",
       "(2.78e-17, 0.01]     24\n",
       "(0.01, 0.02]         48\n",
       "(0.02, 0.03]         16\n",
       "(0.03, 0.04]         16\n",
       "(0.04, 0.05]         32\n",
       "(0.05, 0.06]         16\n",
       "(0.06, 0.07]         40\n",
       "(0.07, 0.08]          8\n",
       "(0.08, 0.09]         40\n",
       "(0.09, 0.1]          24\n",
       "dtype: int64"
      ]
     },
     "execution_count": 16,
     "metadata": {},
     "output_type": "execute_result"
    }
   ],
   "source": [
    "prop_action_data.groupby(\"attack_reward_bin\").size()"
   ]
  },
  {
   "cell_type": "code",
   "execution_count": 13,
   "metadata": {},
   "outputs": [
    {
     "data": {
      "image/png": "[encoded data removed]",
      "text/plain": [
       "<Figure size 625.963x300 with 2 Axes>"
      ]
     },
     "metadata": {},
     "output_type": "display_data"
    }
   ],
   "source": [
    "metrics = (\"prop_attack\", \"prop_hide\")\n",
    "fancy_titles = {\"prop_no_action\": \"No action\", \"prop_attack\": \"Attack\", \"prop_hide\": \"Hide\"}\n",
    "\n",
    "prop_action_data_ = prop_action_data[prop_action_data[\"run_length\"] >= 50]\n",
    "\n",
    "fig, axs = plt.subplots(ncols=len(metrics), nrows=1, constrained_layout=True, figsize=(TWO_COLUMN_FIG_WIDTH, 3), sharey=True, sharex=True)\n",
    "\n",
    "for i, metric in enumerate(metrics):\n",
    "\n",
    "    axs[i].scatter(x=prop_action_data_[\"attack_reward\"], y=prop_action_data_[metric], s=1, c=\"grey\", alpha=0.5)\n",
    "\n",
    "    # prop_action_data_groups = prop_action_data_.groupby(\"attack_reward_bin\")\n",
    "    # avg_metric = prop_action_data_groups.mean()[metric]\n",
    "    # avg_metric_error_margin = prop_action_data_groups.aggregate(lambda x: analyse.t_confidence_interval(x)[1])[metric]\n",
    "    # midpoints = pd.IntervalIndex(avg_metric.index).mid\n",
    "\n",
    "    # # show discontinuity at 0\n",
    "    # if metric == \"prop_attack\":\n",
    "    #     subset = midpoints < 0\n",
    "    #     lines = axs[i].plot(midpoints[subset], avg_metric[subset])\n",
    "    #     color = lines[0].get_color()\n",
    "    #     axs[i].fill_between(midpoints[subset], avg_metric[subset]-avg_metric_error_margin[subset], avg_metric[subset] + avg_metric_error_margin[subset], color=color, alpha=0.5)\n",
    "\n",
    "    #     subset = midpoints > 0\n",
    "    #     axs[i].plot(midpoints[subset], avg_metric[subset], color=color)\n",
    "    #     axs[i].fill_between(midpoints[subset], avg_metric[subset]-avg_metric_error_margin[subset], avg_metric[subset] + avg_metric_error_margin[subset], color=color, alpha=0.5)\n",
    "    # else:\n",
    "    #     axs[i].plot(midpoints, avg_metric)\n",
    "    #     axs[i].fill_between(midpoints, avg_metric-avg_metric_error_margin, avg_metric + avg_metric_error_margin, alpha=0.5)\n",
    "\n",
    "    #axs[i].errorbar(x=midpoints, y=avg_metric, yerr=avg_metric_error_margin, capsize=3, fmt=\"none\")\n",
    "\n",
    "    #axs[i].set_xlabel(\"Reward for attacking\")\n",
    "    #axs[i].set_ylabel(\"Proportion of actions\")\n",
    "    axs[i].set_title(fancy_titles[metric], fontsize=\"large\")\n",
    "    axs[i].set_ylim((-0.05, 1.05))\n",
    "\n",
    "fig.supxlabel(\"Reward for Attacking\", color=plt.rcParams['xtick.color'])\n",
    "fig.supylabel(\"Proportion of Actions\", color=plt.rcParams['xtick.color'])\n",
    "\n",
    "#plt.savefig(\"paper/experiment4mini_prop_actions.pdf\")\n",
    "plt.show()"
   ]
  },
  {
   "cell_type": "markdown",
   "metadata": {},
   "source": [
    "Let us then start to quantify error in predicting the other agents' actions. First, we will plot the prediction error (norm of the difference vector of action utility estimates) over time for different attack rewards."
   ]
  },
  {
   "cell_type": "code",
   "execution_count": 20,
   "metadata": {},
   "outputs": [
    {
     "ename": "KeyboardInterrupt",
     "evalue": "",
     "output_type": "error",
     "traceback": [
      "\u001b[0;31m---------------------------------------------------------------------------\u001b[0m",
      "\u001b[0;31mKeyboardInterrupt\u001b[0m                         Traceback (most recent call last)",
      "Cell \u001b[0;32mIn[20], line 20\u001b[0m\n\u001b[1;32m     16\u001b[0m \u001b[39mfor\u001b[39;00m t, t_data \u001b[39min\u001b[39;00m action_utility_estimates\u001b[39m.\u001b[39mgroupby(\u001b[39m\"\u001b[39m\u001b[39mtime\u001b[39m\u001b[39m\"\u001b[39m):\n\u001b[1;32m     18\u001b[0m     \u001b[39mfor\u001b[39;00m estimator, actor \u001b[39min\u001b[39;00m ((\u001b[39m0\u001b[39m,\u001b[39m1\u001b[39m), (\u001b[39m1\u001b[39m,\u001b[39m0\u001b[39m)):\n\u001b[0;32m---> 20\u001b[0m         actor_estimate \u001b[39m=\u001b[39m t_data[(t_data[\u001b[39m\"\u001b[39m\u001b[39mestimator\u001b[39m\u001b[39m\"\u001b[39m] \u001b[39m==\u001b[39m actor) \u001b[39m&\u001b[39m (t_data[\u001b[39m\"\u001b[39m\u001b[39mactor\u001b[39m\u001b[39m\"\u001b[39m] \u001b[39m==\u001b[39m actor)][\u001b[39m\"\u001b[39m\u001b[39mqualities\u001b[39m\u001b[39m\"\u001b[39m]\u001b[39m.\u001b[39miloc[\u001b[39m0\u001b[39m]\n\u001b[1;32m     21\u001b[0m         estimator_estimate \u001b[39m=\u001b[39m t_data[(t_data[\u001b[39m\"\u001b[39m\u001b[39mestimator\u001b[39m\u001b[39m\"\u001b[39m] \u001b[39m==\u001b[39m estimator) \u001b[39m&\u001b[39m (t_data[\u001b[39m\"\u001b[39m\u001b[39mactor\u001b[39m\u001b[39m\"\u001b[39m] \u001b[39m==\u001b[39m actor)][\u001b[39m\"\u001b[39m\u001b[39mqualities\u001b[39m\u001b[39m\"\u001b[39m]\u001b[39m.\u001b[39miloc[\u001b[39m0\u001b[39m]\n\u001b[1;32m     22\u001b[0m         difference \u001b[39m=\u001b[39m np\u001b[39m.\u001b[39mlinalg\u001b[39m.\u001b[39mnorm(np\u001b[39m.\u001b[39marray(actor_estimate) \u001b[39m-\u001b[39m np\u001b[39m.\u001b[39marray(estimator_estimate))\n",
      "File \u001b[0;32m~/miniconda3/envs/thesis/lib/python3.11/site-packages/pandas/core/frame.py:3774\u001b[0m, in \u001b[0;36mDataFrame.__getitem__\u001b[0;34m(self, key)\u001b[0m\n\u001b[1;32m   3767\u001b[0m \u001b[39m# GH#45316 Return view if key is not duplicated\u001b[39;00m\n\u001b[1;32m   3768\u001b[0m \u001b[39m# Only use drop_duplicates with duplicates for performance\u001b[39;00m\n\u001b[1;32m   3769\u001b[0m \u001b[39mif\u001b[39;00m \u001b[39mnot\u001b[39;00m is_mi \u001b[39mand\u001b[39;00m (\n\u001b[1;32m   3770\u001b[0m     \u001b[39mself\u001b[39m\u001b[39m.\u001b[39mcolumns\u001b[39m.\u001b[39mis_unique\n\u001b[1;32m   3771\u001b[0m     \u001b[39mand\u001b[39;00m key \u001b[39min\u001b[39;00m \u001b[39mself\u001b[39m\u001b[39m.\u001b[39mcolumns\n\u001b[1;32m   3772\u001b[0m     \u001b[39mor\u001b[39;00m key \u001b[39min\u001b[39;00m \u001b[39mself\u001b[39m\u001b[39m.\u001b[39mcolumns\u001b[39m.\u001b[39mdrop_duplicates(keep\u001b[39m=\u001b[39m\u001b[39mFalse\u001b[39;00m)\n\u001b[1;32m   3773\u001b[0m ):\n\u001b[0;32m-> 3774\u001b[0m     \u001b[39mreturn\u001b[39;00m \u001b[39mself\u001b[39m\u001b[39m.\u001b[39m_get_item_cache(key)\n\u001b[1;32m   3776\u001b[0m \u001b[39melif\u001b[39;00m is_mi \u001b[39mand\u001b[39;00m \u001b[39mself\u001b[39m\u001b[39m.\u001b[39mcolumns\u001b[39m.\u001b[39mis_unique \u001b[39mand\u001b[39;00m key \u001b[39min\u001b[39;00m \u001b[39mself\u001b[39m\u001b[39m.\u001b[39mcolumns:\n\u001b[1;32m   3777\u001b[0m     \u001b[39mreturn\u001b[39;00m \u001b[39mself\u001b[39m\u001b[39m.\u001b[39m_getitem_multilevel(key)\n",
      "File \u001b[0;32m~/miniconda3/envs/thesis/lib/python3.11/site-packages/pandas/core/frame.py:4282\u001b[0m, in \u001b[0;36mDataFrame._get_item_cache\u001b[0;34m(self, item)\u001b[0m\n\u001b[1;32m   4277\u001b[0m res \u001b[39m=\u001b[39m cache\u001b[39m.\u001b[39mget(item)\n\u001b[1;32m   4278\u001b[0m \u001b[39mif\u001b[39;00m res \u001b[39mis\u001b[39;00m \u001b[39mNone\u001b[39;00m:\n\u001b[1;32m   4279\u001b[0m     \u001b[39m# All places that call _get_item_cache have unique columns,\u001b[39;00m\n\u001b[1;32m   4280\u001b[0m     \u001b[39m#  pending resolution of GH#33047\u001b[39;00m\n\u001b[0;32m-> 4282\u001b[0m     loc \u001b[39m=\u001b[39m \u001b[39mself\u001b[39m\u001b[39m.\u001b[39mcolumns\u001b[39m.\u001b[39mget_loc(item)\n\u001b[1;32m   4283\u001b[0m     res \u001b[39m=\u001b[39m \u001b[39mself\u001b[39m\u001b[39m.\u001b[39m_ixs(loc, axis\u001b[39m=\u001b[39m\u001b[39m1\u001b[39m)\n\u001b[1;32m   4285\u001b[0m     cache[item] \u001b[39m=\u001b[39m res\n",
      "File \u001b[0;32m~/miniconda3/envs/thesis/lib/python3.11/site-packages/pandas/core/indexes/base.py:3802\u001b[0m, in \u001b[0;36mIndex.get_loc\u001b[0;34m(self, key, method, tolerance)\u001b[0m\n\u001b[1;32m   3800\u001b[0m casted_key \u001b[39m=\u001b[39m \u001b[39mself\u001b[39m\u001b[39m.\u001b[39m_maybe_cast_indexer(key)\n\u001b[1;32m   3801\u001b[0m \u001b[39mtry\u001b[39;00m:\n\u001b[0;32m-> 3802\u001b[0m     \u001b[39mreturn\u001b[39;00m \u001b[39mself\u001b[39m\u001b[39m.\u001b[39m_engine\u001b[39m.\u001b[39mget_loc(casted_key)\n\u001b[1;32m   3803\u001b[0m \u001b[39mexcept\u001b[39;00m \u001b[39mKeyError\u001b[39;00m \u001b[39mas\u001b[39;00m err:\n\u001b[1;32m   3804\u001b[0m     \u001b[39mraise\u001b[39;00m \u001b[39mKeyError\u001b[39;00m(key) \u001b[39mfrom\u001b[39;00m \u001b[39merr\u001b[39;00m\n",
      "\u001b[0;31mKeyboardInterrupt\u001b[0m: "
     ]
    }
   ],
   "source": [
    "rows = []\n",
    "\n",
    "for run_result in results:\n",
    "    attack_reward = run_result[\"attack_reward\"]\n",
    "    reasoning_level = run_result[\"reasoning_level\"]\n",
    "    exploration_coef = run_result[\"exploration_coef\"]\n",
    "    softargmax_coef = run_result[\"softargmax_coefficient\"]\n",
    "    action_dist_0 = run_result[\"action_dist_0\"]\n",
    "    discount_factor = run_result[\"discount_factor\"]\n",
    "\n",
    "    if reasoning_level == 0:\n",
    "        continue\n",
    "\n",
    "    action_utility_estimates = run_result[\"action_qualities\"]\n",
    "\n",
    "    for t, t_data in action_utility_estimates.groupby(\"time\"):\n",
    "\n",
    "        for estimator, actor in ((0,1), (1,0)):\n",
    "\n",
    "            actor_estimate = t_data[(t_data[\"estimator\"] == actor) & (t_data[\"actor\"] == actor)][\"qualities\"].iloc[0]\n",
    "            estimator_estimate = t_data[(t_data[\"estimator\"] == estimator) & (t_data[\"actor\"] == actor)][\"qualities\"].iloc[0]\n",
    "            difference = np.linalg.norm(np.array(actor_estimate) - np.array(estimator_estimate))\n",
    "            rows.append((attack_reward, t, exploration_coef, softargmax_coef, action_dist_0, discount_factor, difference))\n",
    "\n",
    "action_utility_estimate_data = pd.DataFrame(rows, columns=(\"attack_reward\", \"time\", \"exploration_coef\", \"softargmax_coef\", \n",
    "                                                           \"action_dist_0\", \"discount_factor\", \"distance\"))"
   ]
  },
  {
   "cell_type": "code",
   "execution_count": 50,
   "metadata": {},
   "outputs": [
    {
     "data": {
      "image/png": "[encoded data removed]",
      "text/plain": [
       "<Figure size 600x300 with 2 Axes>"
      ]
     },
     "metadata": {},
     "output_type": "display_data"
    }
   ],
   "source": [
    "fig, axs = plt.subplots(constrained_layout=True, nrows=1, ncols=2, figsize=(6, 3))\n",
    "\n",
    "negative_attack_reward = action_utility_estimate_data[action_utility_estimate_data[\"attack_reward\"] < 0]\n",
    "positive_attack_reward = action_utility_estimate_data[action_utility_estimate_data[\"attack_reward\"] >= 0]\n",
    "\n",
    "for i, (attack_reward_data) in enumerate((negative_attack_reward, positive_attack_reward)):\n",
    "\n",
    "    avg_action_utility_estimate = attack_reward_data.groupby(\"time\")[\"distance\"].mean()\n",
    "    avg_action_utility_estimate_error_margin = attack_reward_data.groupby(\"time\")[\"distance\"].aggregate(lambda x: analyse.t_confidence_interval(x)[1])\n",
    "\n",
    "    if avg_action_utility_estimate.max() > 0.7:\n",
    "        print(avg_action_utility_estimate)\n",
    "\n",
    "    #lines = ax.plot(avg_action_utility_estimate.index, avg_action_utility_estimate, label=attack_reward)\n",
    "    axs[i].errorbar(x=avg_action_utility_estimate.index, y=avg_action_utility_estimate, yerr=avg_action_utility_estimate_error_margin, label=attack_reward)\n",
    "    axs[i].set_title(f\"Attack reward {'< 0' if i == 0 else '≥ 0'}\")\n",
    "    axs[i].set_ylim((-0.1, 1.1))\n",
    "\n",
    "fig.supxlabel(\"time\")\n",
    "fig.supylabel(\"distance between utility estimates\")\n",
    "fig.suptitle(\"Prediction error\")\n",
    "plt.show()"
   ]
  }
 ],
 "metadata": {
  "kernelspec": {
   "display_name": "thesis-3-11",
   "language": "python",
   "name": "python3"
  },
  "language_info": {
   "codemirror_mode": {
    "name": "ipython",
    "version": 3
   },
   "file_extension": ".py",
   "mimetype": "text/x-python",
   "name": "python",
   "nbconvert_exporter": "python",
   "pygments_lexer": "ipython3",
   "version": "3.11.4"
  },
  "orig_nbformat": 4
 },
 "nbformat": 4,
 "nbformat_minor": 2
}
